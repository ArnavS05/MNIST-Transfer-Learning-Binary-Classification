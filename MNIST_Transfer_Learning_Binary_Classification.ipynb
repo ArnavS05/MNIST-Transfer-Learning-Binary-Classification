{
  "nbformat": 4,
  "nbformat_minor": 0,
  "metadata": {
    "colab": {
      "provenance": [],
      "authorship_tag": "ABX9TyMLhcLv7rWNp+MnWmMcZQZk"
    },
    "kernelspec": {
      "name": "python3",
      "display_name": "Python 3"
    },
    "language_info": {
      "name": "python"
    }
  },
  "cells": [
    {
      "cell_type": "markdown",
      "source": [
        "The purpose of this activity is to use Transfer Learning and realise that how the model forgets the old data and gets accustomed to the new data. Here, initially, two binary classification models, A & B, will be trained. A will be trained on the data set having only 1s and 7s while B will be trained on the data set having only 3s and 8s. Then, model A will be used for transfer learning on data set having 3s and 8s whereas model B will be used for transfer learning on data set having 1s and 7s. The new models will be called model AB and BA  respectively."
      ],
      "metadata": {
        "id": "0a1g_bh0CUf-"
      }
    },
    {
      "cell_type": "code",
      "execution_count": 1,
      "metadata": {
        "colab": {
          "base_uri": "https://localhost:8080/"
        },
        "id": "hYgk_0s9BpKa",
        "outputId": "90ffdb66-e835-4c95-e2bb-308b3543c0ad"
      },
      "outputs": [
        {
          "output_type": "stream",
          "name": "stdout",
          "text": [
            "Mounted at /content/gdrive\n",
            "Downloading data from https://storage.googleapis.com/tensorflow/tf-keras-datasets/mnist.npz\n",
            "11490434/11490434 [==============================] - 1s 0us/step\n"
          ]
        }
      ],
      "source": [
        "import tensorflow as tf\n",
        "import tensorflow.keras.layers as tfl\n",
        "import numpy as np\n",
        "import matplotlib.pyplot as plt\n",
        "from google.colab import drive\n",
        "drive.mount('/content/gdrive')\n",
        "(x_train, y_train), (x_test, y_test) = tf.keras.datasets.mnist.load_data()"
      ]
    },
    {
      "cell_type": "code",
      "source": [
        "x_train_A, y_train_A, x_test_A, y_test_A = [], [], [], []\n",
        "x_train_B, y_train_B, x_test_B, y_test_B = [], [], [], []\n",
        "for i in range(len(y_train)):\n",
        "  if y_train[i] == 1 or y_train[i] == 7:\n",
        "    x_train_A.append(x_train[i])\n",
        "    y_train_A.append(float(y_train[i]==7))       #y is 0 if image shows 1 and y is 1 if image shows 7\n",
        "  if y_train[i] == 3 or y_train[i] == 8:\n",
        "    x_train_B.append(x_train[i])\n",
        "    y_train_B.append(float(y_train[i]==8))       #y is 0 if image shows 3 and y is 1 if image shows 8\n",
        "\n",
        "for i in range(len(y_test)):\n",
        "  if y_test[i] == 1 or y_test[i] == 7:\n",
        "    x_test_A.append(x_test[i])\n",
        "    y_test_A.append(float(y_test[i]==7))       #y is 0 if image shows 1 and y is 1 if image shows 7\n",
        "  if y_test[i] == 3 or y_test[i] == 8:\n",
        "    x_test_B.append(x_test[i])\n",
        "    y_test_B.append(float(y_test[i]==8))       #y is 0 if image shows 3 and y is 1 if image shows 8"
      ],
      "metadata": {
        "id": "jqtMHNsxOEd3"
      },
      "execution_count": 2,
      "outputs": []
    },
    {
      "cell_type": "code",
      "source": [
        "x_train_A, y_train_A, x_test_A, y_test_A = np.array(x_train_A), np.array(y_train_A), np.array(x_test_A), np.array(y_test_A)\n",
        "x_train_B, y_train_B, x_test_B, y_test_B = np.array(x_train_B), np.array(y_train_B), np.array(x_test_B), np.array(y_test_B)"
      ],
      "metadata": {
        "id": "4K_R7OD2OuqY"
      },
      "execution_count": 3,
      "outputs": []
    },
    {
      "cell_type": "code",
      "source": [
        "fig, axis = plt.subplots(2,4)\n",
        "for i in range(8):\n",
        "  axis[i//4, i%4].imshow(x_train_A[i], cmap='gray', vmin=0, vmax=255)\n",
        "  axis[i//4, i%4].title.set_text(\"Output=\"+str(y_train_A[i]))\n",
        "fig.tight_layout()\n",
        "print(\"The first 8 examples in the train dataset A:\")\n",
        "fig.show()"
      ],
      "metadata": {
        "colab": {
          "base_uri": "https://localhost:8080/",
          "height": 439
        },
        "id": "rAl24Xo1J8rw",
        "outputId": "a0cf8f14-f3c9-4d39-df8c-6249f8fcc5e6"
      },
      "execution_count": 4,
      "outputs": [
        {
          "output_type": "stream",
          "name": "stdout",
          "text": [
            "The first 8 examples in the train dataset A:\n"
          ]
        },
        {
          "output_type": "display_data",
          "data": {
            "text/plain": [
              "<Figure size 640x480 with 8 Axes>"
            ],
            "image/png": "[encoded data removed]"
          },
          "metadata": {}
        }
      ]
    },
    {
      "cell_type": "code",
      "source": [
        "fig, axis = plt.subplots(2,4)\n",
        "for i in range(8):\n",
        "  axis[i//4, i%4].imshow(x_train_B[i], cmap='gray', vmin=0, vmax=255)\n",
        "  axis[i//4, i%4].title.set_text(\"Output=\"+str(y_train_B[i]))\n",
        "fig.tight_layout()\n",
        "print(\"The first 8 examples in the train dataset B:\")\n",
        "fig.show()"
      ],
      "metadata": {
        "colab": {
          "base_uri": "https://localhost:8080/",
          "height": 439
        },
        "id": "GMA29a3LPm-C",
        "outputId": "9b647f36-1627-4a80-b056-96786eeb8255"
      },
      "execution_count": 5,
      "outputs": [
        {
          "output_type": "stream",
          "name": "stdout",
          "text": [
            "The first 8 examples in the train dataset B:\n"
          ]
        },
        {
          "output_type": "display_data",
          "data": {
            "text/plain": [
              "<Figure size 640x480 with 8 Axes>"
            ],
            "image/png": "[encoded data removed]"
          },
          "metadata": {}
        }
      ]
    },
    {
      "cell_type": "code",
      "source": [
        "x_train_A=tf.cast(tf.expand_dims(x_train_A, axis=3), tf.float32)\n",
        "x_train_B=tf.cast(tf.expand_dims(x_train_B, axis=3), tf.float32)\n",
        "x_test_A=tf.cast(tf.expand_dims(x_test_A, axis=3), tf.float32)\n",
        "x_test_B=tf.cast(tf.expand_dims(x_test_B, axis=3), tf.float32)"
      ],
      "metadata": {
        "id": "h7x-tqwnKgjY"
      },
      "execution_count": 6,
      "outputs": []
    },
    {
      "cell_type": "code",
      "source": [
        "def model(x_shape):\n",
        "  input_img=tf.keras.Input(x_shape[1:]+(1,), dtype=tf.float32)\n",
        "  A=tfl.Conv2D(4, (5,5))(input_img)                   #Size of A is (m,24,24,4)\n",
        "  A=tfl.AveragePooling2D((2,2), (2,2))(A)             #Size of A is (m,12,12,4)\n",
        "  A=tfl.Conv2D(12, (5,5))(A)                          #Size of A is (m,8,8,12)\n",
        "  A=tfl.AveragePooling2D((2,2), (2,2))(A)             #Size of A is (m,4,4,12)\n",
        "  A=tfl.Flatten()(A)                                  #Size of A is (m,4*4*12)\n",
        "  A=tfl.Dense(1, activation='sigmoid')(A)\n",
        "  return tf.keras.Model(input_img, A)\n",
        "\n",
        "Model_B=model(x_train.shape)\n",
        "Model_A=model(x_train.shape)"
      ],
      "metadata": {
        "id": "98WH4dn2P2r5"
      },
      "execution_count": 7,
      "outputs": []
    },
    {
      "cell_type": "code",
      "source": [
        "Model_B.compile(optimizer=tf.keras.optimizers.Adam(), loss=tf.keras.losses.BinaryCrossentropy(), metrics=['accuracy'])\n",
        "Model_A.compile(optimizer=tf.keras.optimizers.Adam(), loss=tf.keras.losses.BinaryCrossentropy(), metrics=['accuracy'])"
      ],
      "metadata": {
        "id": "mOrxATNOQpST"
      },
      "execution_count": 8,
      "outputs": []
    },
    {
      "cell_type": "code",
      "source": [
        "Model_A.fit(x_train_A, y_train_A, batch_size=64, epochs=40, callbacks=[tf.keras.callbacks.ModelCheckpoint('/content/gdrive/MyDrive/Colab Notebooks/MNIST Transfer Learning Binary Classification Model_A Chechpoint.h5', save_best_only=True, monitor='loss', mode='min')])"
      ],
      "metadata": {
        "colab": {
          "base_uri": "https://localhost:8080/"
        },
        "id": "lNYdhitIfjZG",
        "outputId": "60217671-8fe0-4bca-a4b5-493d1ae603b6"
      },
      "execution_count": 9,
      "outputs": [
        {
          "output_type": "stream",
          "name": "stdout",
          "text": [
            "Epoch 1/40\n",
            "204/204 [==============================] - 5s 18ms/step - loss: 0.1312 - accuracy: 0.9853\n",
            "Epoch 2/40\n",
            "  7/204 [>.............................] - ETA: 3s - loss: 0.0558 - accuracy: 0.9955"
          ]
        },
        {
          "output_type": "stream",
          "name": "stderr",
          "text": [
            "/usr/local/lib/python3.10/dist-packages/keras/src/engine/training.py:3103: UserWarning: You are saving your model as an HDF5 file via `model.save()`. This file format is considered legacy. We recommend using instead the native Keras format, e.g. `model.save('my_model.keras')`.\n",
            "  saving_api.save_model(\n"
          ]
        },
        {
          "output_type": "stream",
          "name": "stdout",
          "text": [
            "204/204 [==============================] - 4s 21ms/step - loss: 0.0376 - accuracy: 0.9933\n",
            "Epoch 3/40\n",
            "204/204 [==============================] - 6s 27ms/step - loss: 0.0406 - accuracy: 0.9925\n",
            "Epoch 4/40\n",
            "204/204 [==============================] - 4s 22ms/step - loss: 0.0354 - accuracy: 0.9940\n",
            "Epoch 5/40\n",
            "204/204 [==============================] - 4s 18ms/step - loss: 0.0269 - accuracy: 0.9948\n",
            "Epoch 6/40\n",
            "204/204 [==============================] - 6s 28ms/step - loss: 0.0247 - accuracy: 0.9952\n",
            "Epoch 7/40\n",
            "204/204 [==============================] - 4s 20ms/step - loss: 0.0249 - accuracy: 0.9942\n",
            "Epoch 8/40\n",
            "204/204 [==============================] - 5s 23ms/step - loss: 0.0212 - accuracy: 0.9951\n",
            "Epoch 9/40\n",
            "204/204 [==============================] - 5s 22ms/step - loss: 0.0241 - accuracy: 0.9939\n",
            "Epoch 10/40\n",
            "204/204 [==============================] - 6s 28ms/step - loss: 0.0165 - accuracy: 0.9950\n",
            "Epoch 11/40\n",
            "204/204 [==============================] - 6s 27ms/step - loss: 0.0175 - accuracy: 0.9958\n",
            "Epoch 12/40\n",
            "204/204 [==============================] - 6s 30ms/step - loss: 0.0158 - accuracy: 0.9957\n",
            "Epoch 13/40\n",
            "204/204 [==============================] - 5s 22ms/step - loss: 0.0175 - accuracy: 0.9953\n",
            "Epoch 14/40\n",
            "204/204 [==============================] - 4s 21ms/step - loss: 0.0145 - accuracy: 0.9963\n",
            "Epoch 15/40\n",
            "204/204 [==============================] - 4s 20ms/step - loss: 0.0142 - accuracy: 0.9959\n",
            "Epoch 16/40\n",
            "204/204 [==============================] - 6s 29ms/step - loss: 0.0201 - accuracy: 0.9949\n",
            "Epoch 17/40\n",
            "204/204 [==============================] - 4s 18ms/step - loss: 0.0234 - accuracy: 0.9945\n",
            "Epoch 18/40\n",
            "204/204 [==============================] - 4s 18ms/step - loss: 0.0151 - accuracy: 0.9958\n",
            "Epoch 19/40\n",
            "204/204 [==============================] - 5s 26ms/step - loss: 0.0140 - accuracy: 0.9958\n",
            "Epoch 20/40\n",
            "204/204 [==============================] - 5s 23ms/step - loss: 0.0127 - accuracy: 0.9965\n",
            "Epoch 21/40\n",
            "204/204 [==============================] - 4s 19ms/step - loss: 0.0120 - accuracy: 0.9962\n",
            "Epoch 22/40\n",
            "204/204 [==============================] - 4s 18ms/step - loss: 0.0127 - accuracy: 0.9958\n",
            "Epoch 23/40\n",
            "204/204 [==============================] - 6s 30ms/step - loss: 0.0138 - accuracy: 0.9958\n",
            "Epoch 24/40\n",
            "204/204 [==============================] - 4s 18ms/step - loss: 0.0180 - accuracy: 0.9954\n",
            "Epoch 25/40\n",
            "204/204 [==============================] - 4s 21ms/step - loss: 0.0103 - accuracy: 0.9968\n",
            "Epoch 26/40\n",
            "204/204 [==============================] - 5s 23ms/step - loss: 0.0128 - accuracy: 0.9963\n",
            "Epoch 27/40\n",
            "204/204 [==============================] - 5s 25ms/step - loss: 0.0138 - accuracy: 0.9956\n",
            "Epoch 28/40\n",
            "204/204 [==============================] - 4s 18ms/step - loss: 0.0111 - accuracy: 0.9962\n",
            "Epoch 29/40\n",
            "204/204 [==============================] - 4s 18ms/step - loss: 0.0106 - accuracy: 0.9961\n",
            "Epoch 30/40\n",
            "204/204 [==============================] - 6s 28ms/step - loss: 0.0134 - accuracy: 0.9951\n",
            "Epoch 31/40\n",
            "204/204 [==============================] - 4s 21ms/step - loss: 0.0139 - accuracy: 0.9959\n",
            "Epoch 32/40\n",
            "204/204 [==============================] - 4s 18ms/step - loss: 0.0110 - accuracy: 0.9965\n",
            "Epoch 33/40\n",
            "204/204 [==============================] - 4s 22ms/step - loss: 0.0097 - accuracy: 0.9973\n",
            "Epoch 34/40\n",
            "204/204 [==============================] - 6s 28ms/step - loss: 0.0089 - accuracy: 0.9967\n",
            "Epoch 35/40\n",
            "204/204 [==============================] - 4s 18ms/step - loss: 0.0101 - accuracy: 0.9965\n",
            "Epoch 36/40\n",
            "204/204 [==============================] - 4s 18ms/step - loss: 0.0142 - accuracy: 0.9958\n",
            "Epoch 37/40\n",
            "204/204 [==============================] - 5s 25ms/step - loss: 0.0148 - accuracy: 0.9957\n",
            "Epoch 38/40\n",
            "204/204 [==============================] - 5s 23ms/step - loss: 0.0114 - accuracy: 0.9967\n",
            "Epoch 39/40\n",
            "204/204 [==============================] - 4s 22ms/step - loss: 0.0106 - accuracy: 0.9964\n",
            "Epoch 40/40\n",
            "204/204 [==============================] - 9s 46ms/step - loss: 0.0097 - accuracy: 0.9967\n"
          ]
        },
        {
          "output_type": "execute_result",
          "data": {
            "text/plain": [
              "<keras.src.callbacks.History at 0x7b259780f880>"
            ]
          },
          "metadata": {},
          "execution_count": 9
        }
      ]
    },
    {
      "cell_type": "code",
      "source": [
        "Model_B.fit(x_train_B, y_train_B, batch_size=64, epochs=40, callbacks=[tf.keras.callbacks.ModelCheckpoint('/content/gdrive/MyDrive/Colab Notebooks/MNIST Transfer Learning Binary Classification Model_B Chechpoint.h5', save_best_only=True, monitor='loss', mode='min')])"
      ],
      "metadata": {
        "id": "QxDgZd9KoqKD",
        "colab": {
          "base_uri": "https://localhost:8080/"
        },
        "outputId": "746602ba-d302-4f28-9f74-fb3455ac27f7"
      },
      "execution_count": 10,
      "outputs": [
        {
          "output_type": "stream",
          "name": "stdout",
          "text": [
            "Epoch 1/40\n",
            "188/188 [==============================] - 7s 30ms/step - loss: 1.1765 - accuracy: 0.9123\n",
            "Epoch 2/40\n",
            "188/188 [==============================] - 4s 20ms/step - loss: 0.3225 - accuracy: 0.9401\n",
            "Epoch 3/40\n",
            "188/188 [==============================] - 4s 19ms/step - loss: 0.2419 - accuracy: 0.9450\n",
            "Epoch 4/40\n",
            "188/188 [==============================] - 6s 31ms/step - loss: 0.1937 - accuracy: 0.9493\n",
            "Epoch 5/40\n",
            "188/188 [==============================] - 3s 19ms/step - loss: 0.1911 - accuracy: 0.9475\n",
            "Epoch 6/40\n",
            "188/188 [==============================] - 3s 18ms/step - loss: 0.1616 - accuracy: 0.9525\n",
            "Epoch 7/40\n",
            "188/188 [==============================] - 4s 22ms/step - loss: 0.1469 - accuracy: 0.9559\n",
            "Epoch 8/40\n",
            "188/188 [==============================] - 5s 29ms/step - loss: 0.1479 - accuracy: 0.9547\n",
            "Epoch 9/40\n",
            "188/188 [==============================] - 4s 21ms/step - loss: 0.1351 - accuracy: 0.9581\n",
            "Epoch 10/40\n",
            "188/188 [==============================] - 3s 19ms/step - loss: 0.1316 - accuracy: 0.9593\n",
            "Epoch 11/40\n",
            "188/188 [==============================] - 5s 24ms/step - loss: 0.1289 - accuracy: 0.9605\n",
            "Epoch 12/40\n",
            "188/188 [==============================] - 5s 26ms/step - loss: 0.1386 - accuracy: 0.9559\n",
            "Epoch 13/40\n",
            "188/188 [==============================] - 3s 18ms/step - loss: 0.1223 - accuracy: 0.9607\n",
            "Epoch 14/40\n",
            "188/188 [==============================] - 3s 18ms/step - loss: 0.1226 - accuracy: 0.9607\n",
            "Epoch 15/40\n",
            "188/188 [==============================] - 5s 25ms/step - loss: 0.1228 - accuracy: 0.9623\n",
            "Epoch 16/40\n",
            "188/188 [==============================] - 5s 29ms/step - loss: 0.1204 - accuracy: 0.9617\n",
            "Epoch 17/40\n",
            "188/188 [==============================] - 3s 19ms/step - loss: 0.1198 - accuracy: 0.9623\n",
            "Epoch 18/40\n",
            "188/188 [==============================] - 4s 19ms/step - loss: 0.1179 - accuracy: 0.9632\n",
            "Epoch 19/40\n",
            "188/188 [==============================] - 6s 31ms/step - loss: 0.1205 - accuracy: 0.9609\n",
            "Epoch 20/40\n",
            "188/188 [==============================] - 4s 21ms/step - loss: 0.1189 - accuracy: 0.9624\n",
            "Epoch 21/40\n",
            "188/188 [==============================] - 4s 21ms/step - loss: 0.1145 - accuracy: 0.9646\n",
            "Epoch 22/40\n",
            "188/188 [==============================] - 3s 19ms/step - loss: 0.1151 - accuracy: 0.9636\n",
            "Epoch 23/40\n",
            "188/188 [==============================] - 7s 39ms/step - loss: 0.1074 - accuracy: 0.9656\n",
            "Epoch 24/40\n",
            "188/188 [==============================] - 5s 26ms/step - loss: 0.1135 - accuracy: 0.9633\n",
            "Epoch 25/40\n",
            "188/188 [==============================] - 3s 18ms/step - loss: 0.1153 - accuracy: 0.9631\n",
            "Epoch 26/40\n",
            "188/188 [==============================] - 5s 28ms/step - loss: 0.1097 - accuracy: 0.9659\n",
            "Epoch 27/40\n",
            "188/188 [==============================] - 4s 22ms/step - loss: 0.1151 - accuracy: 0.9631\n",
            "Epoch 28/40\n",
            "188/188 [==============================] - 3s 18ms/step - loss: 0.1079 - accuracy: 0.9645\n",
            "Epoch 29/40\n",
            "188/188 [==============================] - 3s 18ms/step - loss: 0.1097 - accuracy: 0.9649\n",
            "Epoch 30/40\n",
            "188/188 [==============================] - 5s 28ms/step - loss: 0.1109 - accuracy: 0.9650\n",
            "Epoch 31/40\n",
            "188/188 [==============================] - 4s 22ms/step - loss: 0.1092 - accuracy: 0.9657\n",
            "Epoch 32/40\n",
            "188/188 [==============================] - 3s 18ms/step - loss: 0.1116 - accuracy: 0.9644\n",
            "Epoch 33/40\n",
            "188/188 [==============================] - 3s 18ms/step - loss: 0.1146 - accuracy: 0.9636\n",
            "Epoch 34/40\n",
            "188/188 [==============================] - 5s 28ms/step - loss: 0.1112 - accuracy: 0.9656\n",
            "Epoch 35/40\n",
            "188/188 [==============================] - 4s 22ms/step - loss: 0.1084 - accuracy: 0.9663\n",
            "Epoch 36/40\n",
            "188/188 [==============================] - 3s 18ms/step - loss: 0.1128 - accuracy: 0.9647\n",
            "Epoch 37/40\n",
            "188/188 [==============================] - 3s 18ms/step - loss: 0.1081 - accuracy: 0.9644\n",
            "Epoch 38/40\n",
            "188/188 [==============================] - 5s 28ms/step - loss: 0.1124 - accuracy: 0.9658\n",
            "Epoch 39/40\n",
            "188/188 [==============================] - 4s 22ms/step - loss: 0.1116 - accuracy: 0.9646\n",
            "Epoch 40/40\n",
            "188/188 [==============================] - 3s 18ms/step - loss: 0.1087 - accuracy: 0.9675\n"
          ]
        },
        {
          "output_type": "execute_result",
          "data": {
            "text/plain": [
              "<keras.src.callbacks.History at 0x7b2596d5f490>"
            ]
          },
          "metadata": {},
          "execution_count": 10
        }
      ]
    },
    {
      "cell_type": "code",
      "source": [
        "test_loss_A_on_1_7, test_accuracy_A_on_1_7 = Model_A.evaluate(x_test_A, y_test_A)\n",
        "test_loss_A_on_3_8, test_accuracy_A_on_3_8 = Model_A.evaluate(x_test_B, y_test_B)"
      ],
      "metadata": {
        "colab": {
          "base_uri": "https://localhost:8080/"
        },
        "id": "iuqA5iyVgVuy",
        "outputId": "7652ddcf-b11b-4d15-8555-101fa43bdc04"
      },
      "execution_count": 11,
      "outputs": [
        {
          "output_type": "stream",
          "name": "stdout",
          "text": [
            "68/68 [==============================] - 1s 6ms/step - loss: 0.0255 - accuracy: 0.9935\n",
            "62/62 [==============================] - 0s 5ms/step - loss: 4.8386 - accuracy: 0.5892\n"
          ]
        }
      ]
    },
    {
      "cell_type": "code",
      "source": [
        "test_loss_B_on_1_7, test_accuracy_B_on_1_7 = Model_B.evaluate(x_test_A, y_test_A)\n",
        "test_loss_B_on_3_8, test_accuracy_B_on_3_8 = Model_B.evaluate(x_test_B, y_test_B)"
      ],
      "metadata": {
        "colab": {
          "base_uri": "https://localhost:8080/"
        },
        "id": "VursbwFgmHKC",
        "outputId": "fab47e28-e984-4fa7-c398-05b5fda6078f"
      },
      "execution_count": 12,
      "outputs": [
        {
          "output_type": "stream",
          "name": "stdout",
          "text": [
            "68/68 [==============================] - 1s 5ms/step - loss: 2.6055 - accuracy: 0.2950\n",
            "62/62 [==============================] - 0s 6ms/step - loss: 0.1029 - accuracy: 0.9723\n"
          ]
        }
      ]
    },
    {
      "cell_type": "code",
      "source": [
        "Model_A_final = tf.keras.models.load_model('/content/gdrive/MyDrive/Colab Notebooks/MNIST Transfer Learning Binary Classification Model_A Chechpoint.h5')\n",
        "Model_B_final = tf.keras.models.load_model(\"/content/gdrive/MyDrive/Colab Notebooks/MNIST Transfer Learning Binary Classification Model_B Chechpoint.h5\")"
      ],
      "metadata": {
        "id": "G2m03vOc0y5n"
      },
      "execution_count": 13,
      "outputs": []
    },
    {
      "cell_type": "markdown",
      "source": [
        "Now doing transfer learning."
      ],
      "metadata": {
        "id": "J636UWk1mRgy"
      }
    },
    {
      "cell_type": "code",
      "source": [
        "Model_AB = tf.keras.models.load_model(\"/content/gdrive/MyDrive/Colab Notebooks/MNIST Transfer Learning Binary Classification Model_A Chechpoint.h5\")\n",
        "Model_BA = tf.keras.models.load_model(\"/content/gdrive/MyDrive/Colab Notebooks/MNIST Transfer Learning Binary Classification Model_B Chechpoint.h5\")"
      ],
      "metadata": {
        "id": "I6w0m2nsmRHK"
      },
      "execution_count": 14,
      "outputs": []
    },
    {
      "cell_type": "code",
      "source": [
        "Model_AB.fit(x_train_B, y_train_B, batch_size=64, epochs=40, callbacks=[tf.keras.callbacks.ModelCheckpoint('/content/gdrive/MyDrive/Colab Notebooks/MNIST Transfer Learning Binary Classification Model_AB Chechpoint.h5', save_best_only=True, monitor='loss', mode='min')])"
      ],
      "metadata": {
        "colab": {
          "base_uri": "https://localhost:8080/"
        },
        "id": "jS9vRLK7GMpJ",
        "outputId": "4b7148c1-a814-4cb3-bb47-c1957b28f254"
      },
      "execution_count": 15,
      "outputs": [
        {
          "output_type": "stream",
          "name": "stdout",
          "text": [
            "Epoch 1/40\n",
            "188/188 [==============================] - 6s 28ms/step - loss: 0.3648 - accuracy: 0.9331\n",
            "Epoch 2/40\n",
            "  7/188 [>.............................] - ETA: 3s - loss: 0.1326 - accuracy: 0.9598"
          ]
        },
        {
          "output_type": "stream",
          "name": "stderr",
          "text": [
            "/usr/local/lib/python3.10/dist-packages/keras/src/engine/training.py:3103: UserWarning: You are saving your model as an HDF5 file via `model.save()`. This file format is considered legacy. We recommend using instead the native Keras format, e.g. `model.save('my_model.keras')`.\n",
            "  saving_api.save_model(\n"
          ]
        },
        {
          "output_type": "stream",
          "name": "stdout",
          "text": [
            "188/188 [==============================] - 4s 21ms/step - loss: 0.1385 - accuracy: 0.9561\n",
            "Epoch 3/40\n",
            "188/188 [==============================] - 4s 23ms/step - loss: 0.1305 - accuracy: 0.9595\n",
            "Epoch 4/40\n",
            "188/188 [==============================] - 8s 40ms/step - loss: 0.1175 - accuracy: 0.9623\n",
            "Epoch 5/40\n",
            "188/188 [==============================] - 4s 23ms/step - loss: 0.1184 - accuracy: 0.9630\n",
            "Epoch 6/40\n",
            "188/188 [==============================] - 4s 22ms/step - loss: 0.1167 - accuracy: 0.9619\n",
            "Epoch 7/40\n",
            "188/188 [==============================] - 6s 32ms/step - loss: 0.1152 - accuracy: 0.9632\n",
            "Epoch 8/40\n",
            "188/188 [==============================] - 4s 19ms/step - loss: 0.1173 - accuracy: 0.9631\n",
            "Epoch 9/40\n",
            "188/188 [==============================] - 4s 21ms/step - loss: 0.1153 - accuracy: 0.9629\n",
            "Epoch 10/40\n",
            "188/188 [==============================] - 5s 25ms/step - loss: 0.1149 - accuracy: 0.9631\n",
            "Epoch 11/40\n",
            "188/188 [==============================] - 5s 26ms/step - loss: 0.1174 - accuracy: 0.9633\n",
            "Epoch 12/40\n",
            "188/188 [==============================] - 4s 22ms/step - loss: 0.1130 - accuracy: 0.9654\n",
            "Epoch 13/40\n",
            "188/188 [==============================] - 4s 19ms/step - loss: 0.1118 - accuracy: 0.9635\n",
            "Epoch 14/40\n",
            "188/188 [==============================] - 5s 29ms/step - loss: 0.1138 - accuracy: 0.9639\n",
            "Epoch 15/40\n",
            "188/188 [==============================] - 4s 23ms/step - loss: 0.1178 - accuracy: 0.9614\n",
            "Epoch 16/40\n",
            "188/188 [==============================] - 4s 23ms/step - loss: 0.1116 - accuracy: 0.9648\n",
            "Epoch 17/40\n",
            "188/188 [==============================] - 4s 21ms/step - loss: 0.1128 - accuracy: 0.9646\n",
            "Epoch 18/40\n",
            "188/188 [==============================] - 7s 36ms/step - loss: 0.1138 - accuracy: 0.9637\n",
            "Epoch 19/40\n",
            "188/188 [==============================] - 5s 28ms/step - loss: 0.1150 - accuracy: 0.9630\n",
            "Epoch 20/40\n",
            "188/188 [==============================] - 4s 22ms/step - loss: 0.1110 - accuracy: 0.9664\n",
            "Epoch 21/40\n",
            "188/188 [==============================] - 5s 29ms/step - loss: 0.1086 - accuracy: 0.9662\n",
            "Epoch 22/40\n",
            "188/188 [==============================] - 4s 22ms/step - loss: 0.1138 - accuracy: 0.9633\n",
            "Epoch 23/40\n",
            "188/188 [==============================] - 4s 19ms/step - loss: 0.1109 - accuracy: 0.9655\n",
            "Epoch 24/40\n",
            "188/188 [==============================] - 4s 22ms/step - loss: 0.1077 - accuracy: 0.9654\n",
            "Epoch 25/40\n",
            "188/188 [==============================] - 6s 31ms/step - loss: 0.1118 - accuracy: 0.9656\n",
            "Epoch 26/40\n",
            "188/188 [==============================] - 4s 19ms/step - loss: 0.1103 - accuracy: 0.9643\n",
            "Epoch 27/40\n",
            "188/188 [==============================] - 4s 19ms/step - loss: 0.1078 - accuracy: 0.9678\n",
            "Epoch 28/40\n",
            "188/188 [==============================] - 4s 22ms/step - loss: 0.1144 - accuracy: 0.9640\n",
            "Epoch 29/40\n",
            "188/188 [==============================] - 6s 31ms/step - loss: 0.1145 - accuracy: 0.9629\n",
            "Epoch 30/40\n",
            "188/188 [==============================] - 4s 19ms/step - loss: 0.1079 - accuracy: 0.9655\n",
            "Epoch 31/40\n",
            "188/188 [==============================] - 4s 22ms/step - loss: 0.1072 - accuracy: 0.9656\n",
            "Epoch 32/40\n",
            "188/188 [==============================] - 5s 27ms/step - loss: 0.1073 - accuracy: 0.9664\n",
            "Epoch 33/40\n",
            "188/188 [==============================] - 4s 24ms/step - loss: 0.1096 - accuracy: 0.9658\n",
            "Epoch 34/40\n",
            "188/188 [==============================] - 4s 22ms/step - loss: 0.1053 - accuracy: 0.9671\n",
            "Epoch 35/40\n",
            "188/188 [==============================] - 4s 19ms/step - loss: 0.1069 - accuracy: 0.9669\n",
            "Epoch 36/40\n",
            "188/188 [==============================] - 6s 31ms/step - loss: 0.1099 - accuracy: 0.9641\n",
            "Epoch 37/40\n",
            "188/188 [==============================] - 4s 20ms/step - loss: 0.1103 - accuracy: 0.9656\n",
            "Epoch 38/40\n",
            "188/188 [==============================] - 4s 19ms/step - loss: 0.1086 - accuracy: 0.9656\n",
            "Epoch 39/40\n",
            "188/188 [==============================] - 4s 23ms/step - loss: 0.1052 - accuracy: 0.9670\n",
            "Epoch 40/40\n",
            "188/188 [==============================] - 5s 29ms/step - loss: 0.1087 - accuracy: 0.9659\n"
          ]
        },
        {
          "output_type": "execute_result",
          "data": {
            "text/plain": [
              "<keras.src.callbacks.History at 0x7b2597916d40>"
            ]
          },
          "metadata": {},
          "execution_count": 15
        }
      ]
    },
    {
      "cell_type": "code",
      "source": [
        "Model_BA.fit(x_train_A, y_train_A, batch_size=64, epochs=40, callbacks=[tf.keras.callbacks.ModelCheckpoint('/content/gdrive/MyDrive/Colab Notebooks/MNIST Transfer Learning Binary Classification Model_BA Chechpoint.h5', save_best_only=True, monitor='loss', mode='min')])"
      ],
      "metadata": {
        "colab": {
          "base_uri": "https://localhost:8080/"
        },
        "id": "I9vD-PTCG-tR",
        "outputId": "7904bc80-0ef3-4365-ee46-25a38ab4a582"
      },
      "execution_count": 16,
      "outputs": [
        {
          "output_type": "stream",
          "name": "stdout",
          "text": [
            "Epoch 1/40\n",
            "204/204 [==============================] - 5s 20ms/step - loss: 0.0899 - accuracy: 0.9808\n",
            "Epoch 2/40\n",
            "204/204 [==============================] - 5s 24ms/step - loss: 0.0246 - accuracy: 0.9942\n",
            "Epoch 3/40\n",
            "204/204 [==============================] - 6s 28ms/step - loss: 0.0178 - accuracy: 0.9949\n",
            "Epoch 4/40\n",
            "204/204 [==============================] - 6s 27ms/step - loss: 0.0162 - accuracy: 0.9954\n",
            "Epoch 5/40\n",
            "204/204 [==============================] - 5s 25ms/step - loss: 0.0158 - accuracy: 0.9955\n",
            "Epoch 6/40\n",
            "204/204 [==============================] - 6s 28ms/step - loss: 0.0166 - accuracy: 0.9952\n",
            "Epoch 7/40\n",
            "204/204 [==============================] - 5s 25ms/step - loss: 0.0144 - accuracy: 0.9954\n",
            "Epoch 8/40\n",
            "204/204 [==============================] - 10s 50ms/step - loss: 0.0135 - accuracy: 0.9955\n",
            "Epoch 9/40\n",
            "204/204 [==============================] - 9s 43ms/step - loss: 0.0143 - accuracy: 0.9956\n",
            "Epoch 10/40\n",
            "204/204 [==============================] - 6s 31ms/step - loss: 0.0143 - accuracy: 0.9962\n",
            "Epoch 11/40\n",
            "204/204 [==============================] - 7s 32ms/step - loss: 0.0122 - accuracy: 0.9965\n",
            "Epoch 12/40\n",
            "204/204 [==============================] - 4s 18ms/step - loss: 0.0148 - accuracy: 0.9961\n",
            "Epoch 13/40\n",
            "204/204 [==============================] - 4s 18ms/step - loss: 0.0130 - accuracy: 0.9957\n",
            "Epoch 14/40\n",
            "204/204 [==============================] - 6s 28ms/step - loss: 0.0164 - accuracy: 0.9951\n",
            "Epoch 15/40\n",
            "204/204 [==============================] - 6s 30ms/step - loss: 0.0147 - accuracy: 0.9957\n",
            "Epoch 16/40\n",
            "204/204 [==============================] - 4s 21ms/step - loss: 0.0134 - accuracy: 0.9960\n",
            "Epoch 17/40\n",
            "204/204 [==============================] - 9s 42ms/step - loss: 0.0124 - accuracy: 0.9965\n",
            "Epoch 18/40\n",
            "204/204 [==============================] - 4s 18ms/step - loss: 0.0125 - accuracy: 0.9967\n",
            "Epoch 19/40\n",
            "204/204 [==============================] - 5s 23ms/step - loss: 0.0121 - accuracy: 0.9958\n",
            "Epoch 20/40\n",
            "204/204 [==============================] - 6s 30ms/step - loss: 0.0125 - accuracy: 0.9960\n",
            "Epoch 21/40\n",
            "204/204 [==============================] - 5s 26ms/step - loss: 0.0132 - accuracy: 0.9954\n",
            "Epoch 22/40\n",
            "204/204 [==============================] - 4s 22ms/step - loss: 0.0144 - accuracy: 0.9962\n",
            "Epoch 23/40\n",
            "204/204 [==============================] - 9s 43ms/step - loss: 0.0118 - accuracy: 0.9962\n",
            "Epoch 24/40\n",
            "204/204 [==============================] - 4s 22ms/step - loss: 0.0157 - accuracy: 0.9951\n",
            "Epoch 25/40\n",
            "204/204 [==============================] - 4s 18ms/step - loss: 0.0137 - accuracy: 0.9959\n",
            "Epoch 26/40\n",
            "204/204 [==============================] - 5s 25ms/step - loss: 0.0150 - accuracy: 0.9956\n",
            "Epoch 27/40\n",
            "204/204 [==============================] - 6s 28ms/step - loss: 0.0134 - accuracy: 0.9963\n",
            "Epoch 28/40\n",
            "204/204 [==============================] - 5s 23ms/step - loss: 0.0097 - accuracy: 0.9965\n",
            "Epoch 29/40\n",
            "204/204 [==============================] - 4s 21ms/step - loss: 0.0232 - accuracy: 0.9938\n",
            "Epoch 30/40\n",
            "204/204 [==============================] - 6s 28ms/step - loss: 0.0142 - accuracy: 0.9958\n",
            "Epoch 31/40\n",
            "204/204 [==============================] - 4s 18ms/step - loss: 0.0112 - accuracy: 0.9966\n",
            "Epoch 32/40\n",
            "204/204 [==============================] - 4s 18ms/step - loss: 0.0109 - accuracy: 0.9970\n",
            "Epoch 33/40\n",
            "204/204 [==============================] - 6s 28ms/step - loss: 0.0145 - accuracy: 0.9959\n",
            "Epoch 34/40\n",
            "204/204 [==============================] - 7s 35ms/step - loss: 0.0120 - accuracy: 0.9965\n",
            "Epoch 35/40\n",
            "204/204 [==============================] - 4s 19ms/step - loss: 0.0118 - accuracy: 0.9961\n",
            "Epoch 36/40\n",
            "204/204 [==============================] - 4s 18ms/step - loss: 0.0101 - accuracy: 0.9966\n",
            "Epoch 37/40\n",
            "204/204 [==============================] - 5s 22ms/step - loss: 0.0164 - accuracy: 0.9957\n",
            "Epoch 38/40\n",
            "204/204 [==============================] - 5s 27ms/step - loss: 0.0114 - accuracy: 0.9965\n",
            "Epoch 39/40\n",
            "204/204 [==============================] - 4s 20ms/step - loss: 0.0108 - accuracy: 0.9969\n",
            "Epoch 40/40\n",
            "204/204 [==============================] - 4s 19ms/step - loss: 0.0121 - accuracy: 0.9966\n"
          ]
        },
        {
          "output_type": "execute_result",
          "data": {
            "text/plain": [
              "<keras.src.callbacks.History at 0x7b259bb88850>"
            ]
          },
          "metadata": {},
          "execution_count": 16
        }
      ]
    },
    {
      "cell_type": "code",
      "source": [
        "test_loss_AB_on_1_7, test_accuracy_AB_on_1_7 = Model_AB.evaluate(x_test_A, y_test_A)\n",
        "test_loss_AB_on_3_8, test_accuracy_AB_on_3_8 = Model_AB.evaluate(x_test_B, y_test_B)"
      ],
      "metadata": {
        "colab": {
          "base_uri": "https://localhost:8080/"
        },
        "id": "ux7Lxzp0IvQC",
        "outputId": "a8a45402-fd71-4aa0-94e1-8669cc305fd8"
      },
      "execution_count": 17,
      "outputs": [
        {
          "output_type": "stream",
          "name": "stdout",
          "text": [
            "68/68 [==============================] - 1s 9ms/step - loss: 2.7891 - accuracy: 0.2538\n",
            "62/62 [==============================] - 1s 9ms/step - loss: 0.1128 - accuracy: 0.9632\n"
          ]
        }
      ]
    },
    {
      "cell_type": "code",
      "source": [
        "test_loss_BA_on_1_7, test_accuracy_BA_on_1_7 = Model_BA.evaluate(x_test_A, y_test_A)\n",
        "test_loss_BA_on_3_8, test_accuracy_BA_on_3_8 = Model_BA.evaluate(x_test_B, y_test_B)"
      ],
      "metadata": {
        "colab": {
          "base_uri": "https://localhost:8080/"
        },
        "id": "tYA2no-NI4aU",
        "outputId": "cd2a5f52-e269-4929-9273-ea2613bcf491"
      },
      "execution_count": 18,
      "outputs": [
        {
          "output_type": "stream",
          "name": "stdout",
          "text": [
            "68/68 [==============================] - 1s 9ms/step - loss: 0.0236 - accuracy: 0.9935\n",
            "62/62 [==============================] - 0s 6ms/step - loss: 4.7024 - accuracy: 0.5595\n"
          ]
        }
      ]
    },
    {
      "cell_type": "code",
      "source": [
        "Model_AB_final = tf.keras.models.load_model('/content/gdrive/MyDrive/Colab Notebooks/MNIST Transfer Learning Binary Classification Model_AB Chechpoint.h5')\n",
        "Model_BA_final = tf.keras.models.load_model('/content/gdrive/MyDrive/Colab Notebooks/MNIST Transfer Learning Binary Classification Model_BA Chechpoint.h5')"
      ],
      "metadata": {
        "id": "eOQGrNC4JLe7"
      },
      "execution_count": 19,
      "outputs": []
    },
    {
      "cell_type": "markdown",
      "source": [
        "Final Accuracy Table\n",
        "![picture](https://drive.google.com/uc?export=view&id=16F4ZPq1ST7iToapOsQjWoNw1wzJoLi5q)"
      ],
      "metadata": {
        "id": "QiaMjVkSm2Vq"
      }
    }
  ]
}